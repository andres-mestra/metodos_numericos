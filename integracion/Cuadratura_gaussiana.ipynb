{
 "cells": [
  {
   "cell_type": "code",
   "execution_count": 1,
   "metadata": {},
   "outputs": [],
   "source": [
    "import numpy as np\n",
    "import matplotlib.pyplot as plt"
   ]
  },
  {
   "cell_type": "code",
   "execution_count": 3,
   "metadata": {},
   "outputs": [
    {
     "name": "stdout",
     "output_type": "stream",
     "text": [
      "(14, 3)\n"
     ]
    }
   ],
   "source": [
    "coeff = np.loadtxt('coeff.dat')\n",
    "print(coeff.shape)"
   ]
  },
  {
   "cell_type": "code",
   "execution_count": 11,
   "metadata": {},
   "outputs": [],
   "source": [
    "def f(x):\n",
    "    value = np.log(np.sin(np.exp(-x)))\n",
    "    return value"
   ]
  },
  {
   "cell_type": "code",
   "execution_count": 12,
   "metadata": {},
   "outputs": [],
   "source": [
    "def GaussQuad(f,a,b,n):\n",
    "    w_list=[]\n",
    "    z_list=[]\n",
    "    \n",
    "    for i in range(0,coeff.shape[0]):\n",
    "        if(n == int(coeff[i][0])):\n",
    "            w_list.append(coeff[i][2])\n",
    "            z_list.append(coeff[i][1])\n",
    "    \n",
    "    sum=0\n",
    "    \n",
    "    for i in range(0,n):\n",
    "        argument = ((b-a)*z_list[i]+a+b)*0.5\n",
    "        sum += w_list[i]*f(argument)\n",
    "    \n",
    "    value=sum*(b-a)*0.5\n",
    "    return value\n",
    "           \n",
    "           \n"
   ]
  },
  {
   "cell_type": "code",
   "execution_count": 13,
   "metadata": {},
   "outputs": [
    {
     "name": "stdout",
     "output_type": "stream",
     "text": [
      "-1.5097767558901296\n"
     ]
    }
   ],
   "source": [
    "print(GaussQuad(f,1,2,5))"
   ]
  },
  {
   "cell_type": "code",
   "execution_count": null,
   "metadata": {},
   "outputs": [],
   "source": []
  }
 ],
 "metadata": {
  "kernelspec": {
   "display_name": "Python 3",
   "language": "python",
   "name": "python3"
  },
  "language_info": {
   "codemirror_mode": {
    "name": "ipython",
    "version": 3
   },
   "file_extension": ".py",
   "mimetype": "text/x-python",
   "name": "python",
   "nbconvert_exporter": "python",
   "pygments_lexer": "ipython3",
   "version": "3.6.6"
  }
 },
 "nbformat": 4,
 "nbformat_minor": 2
}
