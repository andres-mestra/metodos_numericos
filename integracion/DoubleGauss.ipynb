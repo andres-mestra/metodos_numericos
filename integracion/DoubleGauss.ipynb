{
 "cells": [
  {
   "cell_type": "markdown",
   "metadata": {},
   "source": [
    "# Integración multiple"
   ]
  },
  {
   "cell_type": "code",
   "execution_count": 21,
   "metadata": {},
   "outputs": [],
   "source": [
    "import numpy as np"
   ]
  },
  {
   "cell_type": "code",
   "execution_count": 29,
   "metadata": {},
   "outputs": [
    {
     "name": "stdout",
     "output_type": "stream",
     "text": [
      "[[ 2.          0.57735027  1.        ]\n",
      " [ 2.         -0.57735027  1.        ]\n",
      " [ 3.          0.77459667  0.55555556]\n",
      " [ 3.          0.          0.88888889]\n",
      " [ 3.         -0.77459667  0.55555556]\n",
      " [ 4.          0.86113631  0.34785485]\n",
      " [ 4.          0.33998104  0.65214515]\n",
      " [ 4.         -0.33998104  0.65214515]\n",
      " [ 4.         -0.86113631  0.34785485]\n",
      " [ 5.          0.90617985  0.23692689]\n",
      " [ 5.          0.53846931  0.47862867]\n",
      " [ 5.          0.          0.56888889]\n",
      " [ 5.         -0.53846931  0.47862867]\n",
      " [ 5.         -0.90617985  0.23692689]]\n"
     ]
    }
   ],
   "source": [
    "#Carga de  coeficientes\n",
    "coeff = np.loadtxt('coeff.dat')\n",
    "print(coeff)\n",
    "#Definición de limites internos de  integración\n",
    "\n",
    "def  f(x,y):\n",
    "    #value = np.exp(y/x)\n",
    "    value = np.log(x+2*y)\n",
    "    return value\n",
    "    \n",
    "def c(x):\n",
    "    #value = x**3\n",
    "    value = 1.0\n",
    "    return value\n",
    "\n",
    "def d(x):\n",
    "    #value = x**2\n",
    "    value =  1.5\n",
    "    return value"
   ]
  },
  {
   "cell_type": "code",
   "execution_count": 30,
   "metadata": {},
   "outputs": [],
   "source": [
    "def DoubleGauss(a,b,c,d,f,n,m):\n",
    "    \n",
    "    #Crea pesos(Wi,Wj) y raices(Zi,Zj)\n",
    "    w_i=[]\n",
    "    z_i=[]\n",
    "    for i in range(0,coeff.shape[0]):\n",
    "        if(n == int(coeff[i][0])):\n",
    "            w_i.append(coeff[i][2])\n",
    "            z_i.append(coeff[i][1])\n",
    "            \n",
    "    w_j=[]\n",
    "    t_j=[]\n",
    "    for j in range(0,coeff.shape[0]):\n",
    "        if(m == int(coeff[j][0])):\n",
    "            w_j.append(coeff[j][2])\n",
    "            t_j.append(coeff[j][1])\n",
    "    \n",
    "    #Inicia integración\n",
    "    sum_i = 0.0\n",
    "    for i in range(0,n):\n",
    "        x_i=0.5*((b-a)*z_i[i]+a+b)  #x(z_i)\n",
    "        \n",
    "        sum_j = 0.0\n",
    "        for j in range(0,m):\n",
    "            y_j=0.5*((d(x_i)-c(x_i))*t_j[j]+c(x_i)+d(x_i))\n",
    "            sum_j += f(x_i,y_j)*w_i[i]*w_j[j]\n",
    "        \n",
    "        sum_i += sum_j*(d(x_i)-c(x_i))\n",
    "        \n",
    "    value = sum_i*0.25*(b-a)\n",
    "    return value"
   ]
  },
  {
   "cell_type": "code",
   "execution_count": 31,
   "metadata": {},
   "outputs": [
    {
     "name": "stdout",
     "output_type": "stream",
     "text": [
      "0.42955452750549294\n"
     ]
    }
   ],
   "source": [
    "print(DoubleGauss(1.4,2.0,c,d,f,5,5))"
   ]
  },
  {
   "cell_type": "code",
   "execution_count": null,
   "metadata": {},
   "outputs": [],
   "source": []
  }
 ],
 "metadata": {
  "kernelspec": {
   "display_name": "Python 3",
   "language": "python",
   "name": "python3"
  },
  "language_info": {
   "codemirror_mode": {
    "name": "ipython",
    "version": 3
   },
   "file_extension": ".py",
   "mimetype": "text/x-python",
   "name": "python",
   "nbconvert_exporter": "python",
   "pygments_lexer": "ipython3",
   "version": "3.6.5"
  }
 },
 "nbformat": 4,
 "nbformat_minor": 2
}
