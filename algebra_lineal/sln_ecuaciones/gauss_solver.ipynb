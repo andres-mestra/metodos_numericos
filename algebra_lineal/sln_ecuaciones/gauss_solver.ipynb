{
 "cells": [
  {
   "cell_type": "code",
   "execution_count": 1,
   "metadata": {},
   "outputs": [],
   "source": [
    "import numpy as np"
   ]
  },
  {
   "cell_type": "code",
   "execution_count": 4,
   "metadata": {},
   "outputs": [],
   "source": [
    "#definiciòn de matriz de coeficientes y vector de terminos ind\n",
    "\n",
    "A  = [[1,1,1],[2,3,-4],[1,-1,1]]\n",
    "A = np.array(A)\n",
    "\n",
    "B = [1,9,-1]\n",
    "B = np.array(B)"
   ]
  },
  {
   "cell_type": "code",
   "execution_count": 22,
   "metadata": {},
   "outputs": [],
   "source": [
    "#Retorna la fila en la que se encuantra el pivote de una columna\n",
    "def row_pivote(A,fil,col):\n",
    "    max_value = max(A[fil:,col])\n",
    "    min_value = min(A[fil:,col])\n",
    "     \n",
    "    if(abs(max_value)>abs(min_value)):\n",
    "        pivote = max_value\n",
    "    else:\n",
    "        pivote = min_value\n",
    "        \n",
    "    for i in range(0,A.shape[0]):\n",
    "        if(A[i][col] == pivote):\n",
    "            fila_pivote = i\n",
    "    return fila_pivote"
   ]
  },
  {
   "cell_type": "code",
   "execution_count": 23,
   "metadata": {},
   "outputs": [
    {
     "ename": "SyntaxError",
     "evalue": "invalid syntax (<ipython-input-23-7070733d9e39>, line 42)",
     "output_type": "error",
     "traceback": [
      "\u001b[0;36m  File \u001b[0;32m\"<ipython-input-23-7070733d9e39>\"\u001b[0;36m, line \u001b[0;32m42\u001b[0m\n\u001b[0;31m    return x_sol\u001b[0m\n\u001b[0m         ^\u001b[0m\n\u001b[0;31mSyntaxError\u001b[0m\u001b[0;31m:\u001b[0m invalid syntax\n"
     ]
    }
   ],
   "source": [
    "def GaussSolver(A,B):\n",
    "    #dimenciones de matriz de coeficientes\n",
    "    n = A.shape[0]\n",
    "    m = A.shape[1]\n",
    "    \n",
    "    AB = np.zeros((n,m+1))\n",
    "    AB[:,0:m] = A\n",
    "    for i in range(0,n):\n",
    "        AB[i][m] = b[i]\n",
    "    \n",
    "    #inicia eliminaciòn\n",
    "    i= 0 #sobre filas\n",
    "    j= 0 #sobre columnas\n",
    "    \n",
    "    #recorriendo columnas\n",
    "    for h in range(j,m-1):\n",
    "        #Determinando fila del pivote\n",
    "        fila_pivote=row_pivote(AB,i,h)\n",
    "        pivote = AB[fila_pivote][h]\n",
    "        if(fila_pivote!= i):\n",
    "            #Intercambio de filas \n",
    "            AB[[fila_pivote,i]] = AB[[i,fila_pivote]]\n",
    "            #Luego el pivote està en la fila i-èsima\n",
    "        for k in range(i+1,n):\n",
    "            x = -AB[k][h]/pivote\n",
    "            AB[k] = AB[k] + x*AB[i]\n",
    "        i= i + 1 \n",
    "        j= j + 1\n",
    "        \n",
    "        #Vector soluciòn\n",
    "        x_sol= np.zeros(m)\n",
    "        for i in range(n-1,-1,-1):\n",
    "            if(i==n-1):\n",
    "                x_sol[i] = AB[i,m]/AB[i][i]\n",
    "            else:\n",
    "                sum= 0.0\n",
    "                for j in range(i+1,m):\n",
    "                    sum += AB[i][j]*x_sol[j]\n",
    "                    \n",
    "                x_sol = (AB[i][m]-sum)/(AB[i][i]\n",
    "                                        \n",
    "    return x_sol\n",
    "\n",
    "    "
   ]
  },
  {
   "cell_type": "code",
   "execution_count": 24,
   "metadata": {},
   "outputs": [
    {
     "ename": "TypeError",
     "evalue": "data type not understood",
     "output_type": "error",
     "traceback": [
      "\u001b[0;31m---------------------------------------------------------------------------\u001b[0m",
      "\u001b[0;31mTypeError\u001b[0m                                 Traceback (most recent call last)",
      "\u001b[0;32m<ipython-input-24-29ff977e02ef>\u001b[0m in \u001b[0;36m<module>\u001b[0;34m\u001b[0m\n\u001b[0;32m----> 1\u001b[0;31m \u001b[0mprint\u001b[0m\u001b[0;34m(\u001b[0m\u001b[0mGaussSolver\u001b[0m\u001b[0;34m(\u001b[0m\u001b[0mA\u001b[0m\u001b[0;34m,\u001b[0m\u001b[0mB\u001b[0m\u001b[0;34m)\u001b[0m\u001b[0;34m)\u001b[0m\u001b[0;34m\u001b[0m\u001b[0m\n\u001b[0m",
      "\u001b[0;32m<ipython-input-12-288c1de88f1a>\u001b[0m in \u001b[0;36mGaussSolver\u001b[0;34m(A, B)\u001b[0m\n\u001b[1;32m      4\u001b[0m     \u001b[0mm\u001b[0m \u001b[0;34m=\u001b[0m \u001b[0mA\u001b[0m\u001b[0;34m.\u001b[0m\u001b[0mshape\u001b[0m\u001b[0;34m[\u001b[0m\u001b[0;36m1\u001b[0m\u001b[0;34m]\u001b[0m\u001b[0;34m\u001b[0m\u001b[0m\n\u001b[1;32m      5\u001b[0m \u001b[0;34m\u001b[0m\u001b[0m\n\u001b[0;32m----> 6\u001b[0;31m     \u001b[0mAB\u001b[0m \u001b[0;34m=\u001b[0m \u001b[0mnp\u001b[0m\u001b[0;34m.\u001b[0m\u001b[0mzeros\u001b[0m\u001b[0;34m(\u001b[0m\u001b[0mn\u001b[0m\u001b[0;34m,\u001b[0m\u001b[0mm\u001b[0m\u001b[0;34m+\u001b[0m\u001b[0;36m1\u001b[0m\u001b[0;34m)\u001b[0m\u001b[0;34m\u001b[0m\u001b[0m\n\u001b[0m\u001b[1;32m      7\u001b[0m     \u001b[0mAB\u001b[0m\u001b[0;34m[\u001b[0m\u001b[0;34m:\u001b[0m\u001b[0;34m,\u001b[0m\u001b[0;36m0\u001b[0m\u001b[0;34m:\u001b[0m\u001b[0mm\u001b[0m\u001b[0;34m]\u001b[0m \u001b[0;34m=\u001b[0m \u001b[0mA\u001b[0m\u001b[0;34m\u001b[0m\u001b[0m\n\u001b[1;32m      8\u001b[0m     \u001b[0;32mfor\u001b[0m \u001b[0mi\u001b[0m \u001b[0;32min\u001b[0m \u001b[0mrange\u001b[0m\u001b[0;34m(\u001b[0m\u001b[0;36m0\u001b[0m\u001b[0;34m,\u001b[0m\u001b[0mn\u001b[0m\u001b[0;34m)\u001b[0m\u001b[0;34m:\u001b[0m\u001b[0;34m\u001b[0m\u001b[0m\n",
      "\u001b[0;31mTypeError\u001b[0m: data type not understood"
     ]
    }
   ],
   "source": [
    "print(GaussSolver(A,B))"
   ]
  },
  {
   "cell_type": "code",
   "execution_count": null,
   "metadata": {},
   "outputs": [],
   "source": []
  }
 ],
 "metadata": {
  "kernelspec": {
   "display_name": "Python 3",
   "language": "python",
   "name": "python3"
  },
  "language_info": {
   "codemirror_mode": {
    "name": "ipython",
    "version": 3
   },
   "file_extension": ".py",
   "mimetype": "text/x-python",
   "name": "python",
   "nbconvert_exporter": "python",
   "pygments_lexer": "ipython3",
   "version": "3.6.6"
  }
 },
 "nbformat": 4,
 "nbformat_minor": 2
}
