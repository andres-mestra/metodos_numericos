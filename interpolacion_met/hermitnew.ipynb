{
 "cells": [
  {
   "cell_type": "code",
   "execution_count": 8,
   "metadata": {},
   "outputs": [],
   "source": [
    "import numpy as np\n",
    "import matplotlib.pyplot as plt"
   ]
  },
  {
   "cell_type": "code",
   "execution_count": 9,
   "metadata": {},
   "outputs": [],
   "source": [
    "#puntos experimentales \n",
    "xL =[1.3,1.6,1.9]\n",
    "yL = [0.6200860,0.4554022,0.2818186]\n",
    "dxdyL =[-0.5220232,-0.5698959,-0.5811571]\n",
    "\n",
    "n = len(xL)\n",
    "\n"
   ]
  },
  {
   "cell_type": "code",
   "execution_count": 20,
   "metadata": {},
   "outputs": [],
   "source": [
    "def DiferenciaDividida(xL,yL,dxdyL ):\n",
    "    s =len(xL) #numero total de puntos experimentales\n",
    "     \n",
    "    #crea matriz ceros    \n",
    "    T =  np.zeros((2*s,2*s))\n",
    "\n",
    "    #crea secuencia z\n",
    "    z = np.zeros(2*s)\n",
    "    for i in range(0,len(z)):\n",
    "        z[i] = xL[int(i/2)]\n",
    "        \n",
    "    #diagonal principal\n",
    "    for i in range(0,2*s):\n",
    "       for j in range(0,2*s):\n",
    "           if i==j:\n",
    "                T[i][j] = yL[int(i/2)]\n",
    "           else:\n",
    "                continue\n",
    "\n",
    "    #print(T)            \n",
    "    #llenamos la matriz diagonal superior \n",
    "    for  k in range(1, 2*s):\n",
    "        for i in range(0, 2*s-1):\n",
    "            for j in range(1,2*s):\n",
    "                if j!=i and j==i+k and z[j]!=z[i]:\n",
    "                     T[i][j] = (T[i+1][j]-T[i][j-1])/(z[j]-z[i])\n",
    "                elif j!=i and  j==i+k and z[j] == z[i]:\n",
    "                    T[i][j]= dxdyL[int(i/2)]\n",
    "\n",
    "    return T\n",
    "\n",
    "\n",
    "def poliHermit(xL,yL,dxdyL,x):\n",
    "    n = len(xL)-1\n",
    "    #crea secuencia z\n",
    "    z = np.zeros(2*(n+1))\n",
    "    for i in range(0,len(z)):\n",
    "        z[i] = xL[int(i/2)]  \n",
    "        \n",
    "    T = DiferenciaDividida(xL,yL,dxdyL)\n",
    "    px = T[0][0]\n",
    "    \n",
    "    for i in range(1, 2*len(xL)):\n",
    "        prod = 1 \n",
    "        for j in range(0,i):\n",
    "            prod = prod*(x-z[j])\n",
    "        px = px + T[0][i]*prod\n",
    "    \n",
    "    return px\n"
   ]
  },
  {
   "cell_type": "code",
   "execution_count": 21,
   "metadata": {},
   "outputs": [
    {
     "name": "stdout",
     "output_type": "stream",
     "text": [
      "1.0019440646910471\n"
     ]
    }
   ],
   "source": [
    "print(poliHermit(xL,yL,dxdyL,0))\n",
    "                "
   ]
  },
  {
   "cell_type": "code",
   "execution_count": null,
   "metadata": {},
   "outputs": [],
   "source": [
    "x_inter = np.linspace(min(xL),max(xL),1000)\n",
    "y_inter = poliHermit(xL,yL,dxdyL,)"
   ]
  }
 ],
 "metadata": {
  "kernelspec": {
   "display_name": "Python 3",
   "language": "python",
   "name": "python3"
  },
  "language_info": {
   "codemirror_mode": {
    "name": "ipython",
    "version": 3
   },
   "file_extension": ".py",
   "mimetype": "text/x-python",
   "name": "python",
   "nbconvert_exporter": "python",
   "pygments_lexer": "ipython3",
   "version": "3.6.6"
  }
 },
 "nbformat": 4,
 "nbformat_minor": 2
}
