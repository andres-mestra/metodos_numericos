{
 "cells": [
  {
   "cell_type": "code",
   "execution_count": 35,
   "metadata": {},
   "outputs": [],
   "source": [
    "import numpy as np\n",
    "import matplotlib.pyplot as plt"
   ]
  },
  {
   "cell_type": "code",
   "execution_count": 48,
   "metadata": {},
   "outputs": [
    {
     "name": "stdout",
     "output_type": "stream",
     "text": [
      "[[0. 0. 0. 0. 0.]\n",
      " [0. 0. 0. 0. 0.]\n",
      " [0. 0. 0. 0. 0.]\n",
      " [0. 0. 0. 0. 0.]\n",
      " [0. 0. 0. 0. 0.]]\n"
     ]
    }
   ],
   "source": [
    "#puntos experimentales \n",
    "xL =[1.0,1.3,1.6,1.9,2.2]\n",
    "yL = [0.7651977,0.6200860,0.4554022,0.2818186,0.1103623]\n",
    "\n",
    "n = len(xL)\n",
    "\n",
    "T =  np.zeros((n,n))\n",
    "print(T)"
   ]
  },
  {
   "cell_type": "code",
   "execution_count": 49,
   "metadata": {},
   "outputs": [
    {
     "name": "stdout",
     "output_type": "stream",
     "text": [
      "[[ 0.7651977  -0.48370567 -0.10873389  0.0658784   0.0018251 ]\n",
      " [ 0.          0.620086   -0.548946   -0.04944333  0.06806852]\n",
      " [ 0.          0.          0.4554022  -0.578612    0.01181833]\n",
      " [ 0.          0.          0.          0.2818186  -0.571521  ]\n",
      " [ 0.          0.          0.          0.          0.1103623 ]]\n",
      "0.4554022\n"
     ]
    }
   ],
   "source": [
    "for i in range(0,n):\n",
    "   for j in range(0,n):\n",
    "       if i==j:\n",
    "            T[i][j] = yL[j]\n",
    "       else:\n",
    "            continue\n",
    "\n",
    "#print(T)            \n",
    "#llenamos la matriz diagonal superior \n",
    "for  k in range(1, n):\n",
    "    for i in range(0, n-1):\n",
    "        for j in range(1,n):\n",
    "            if(j!=i) and j==i+k:\n",
    "                 T[i][j] = (T[i+1][j]-T[i][j-1])/(xL[j]-xL[i])\n",
    "\n",
    "print(T)\n",
    "                \n",
    "x=1.6   \n",
    "px = yL[0]\n",
    "\n",
    "for i in range(1, n):\n",
    "    prod = 1 \n",
    "    for j in range(0,i):\n",
    "        prod = prod*(x-xL[j])\n",
    "    px = px + T[0][i]*prod\n",
    "print(px)"
   ]
  },
  {
   "cell_type": "code",
   "execution_count": null,
   "metadata": {},
   "outputs": [],
   "source": []
  },
  {
   "cell_type": "code",
   "execution_count": null,
   "metadata": {},
   "outputs": [],
   "source": []
  }
 ],
 "metadata": {
  "kernelspec": {
   "display_name": "Python 3",
   "language": "python",
   "name": "python3"
  },
  "language_info": {
   "codemirror_mode": {
    "name": "ipython",
    "version": 3
   },
   "file_extension": ".py",
   "mimetype": "text/x-python",
   "name": "python",
   "nbconvert_exporter": "python",
   "pygments_lexer": "ipython3",
   "version": "3.6.6"
  }
 },
 "nbformat": 4,
 "nbformat_minor": 2
}
